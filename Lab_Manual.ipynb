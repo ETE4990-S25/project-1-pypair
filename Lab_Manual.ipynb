{
 "cells": [
  {
   "cell_type": "markdown",
   "metadata": {},
   "source": [
    "# Lab Manual for Project-1-PyPair\n",
    "\n",
    "This lab manual provides an overview of the project, explains the functionality of each section, and guides you on how to run the game."
   ]
  },
  {
   "cell_type": "markdown",
   "metadata": {},
   "source": [
    "## Overview\n",
    "Project-1-PyPair is a Python-based text adventure game where players fight demons, collect items, and progress through a storyline. The game demonstrates the use of Python classes, JSON handling, file operations, and modular programming."
   ]
  },
  {
   "cell_type": "markdown",
   "metadata": {},
   "source": [
    "## Key Components\n",
    "\n",
    "### 1. **Player Classes**\n",
    "- Located in `Player.py`.\n",
    "- Defines the player character classes: `Mage`, `Warrior`, `Shadow`, and `Archer`.\n",
    "- Each class has unique attributes and level-up mechanics.\n",
    "\n",
    "#### Example Code:"
   ]
  },
  {
   "cell_type": "code",
   "execution_count": null,
   "metadata": {},
   "outputs": [],
   "source": [
    "# filepath: ~~\\project-1-pypair\\Project_Main_Function\\Player.py\n",
    "class Mage(Player):\n",
    "    def __init__(self, name):\n",
    "        super().__init__(name, 80, 150, 60, 6, 10, 18)\n",
    "        self.magic_power = 25  # Unique attribute\n",
    "    def level_up(self):\n",
    "        super().level_up()\n",
    "        self.hp += 5\n",
    "        self.mana += 15\n",
    "        self.intelligence += 5"
   ]
  },
  {
   "cell_type": "markdown",
   "metadata": {},
   "source": [
    "## How to Run the Game\n",
    "1. Ensure all required files are in the project directory.\n",
    "2. Open a terminal and navigate to the project folder.\n",
    "3. Run the following command:\n",
    "   ```bash\n",
    "   python Project_Main_Function/Game_Start.py\n",
    "   ```\n",
    "4. Follow the on-screen instructions to play the game."
   ]
  },
  {
   "cell_type": "code",
   "execution_count": null,
   "metadata": {},
   "outputs": [],
   "source": [
    "# filepath: ~~\\project-1-pypair\\Project_Main_Function\\Combat_System.py\n",
    "def combat(player, demon, location):\n",
    "    while player.hp > 0 and demon['hp'] > 0:\n",
    "        action = input(\"Choose an action: (1) Attack, (2) Use Item, (3) Run: \").strip()\n",
    "        if action == \"1\":\n",
    "            damage = calculate_damage(player, demon)\n",
    "            demon['hp'] -= damage\n",
    "            print(f\"{player.name} dealt {damage} damage to {demon['name']}!\")\n",
    "        elif action == \"2\":\n",
    "            use_item(player)\n",
    "        elif action == \"3\":\n",
    "            print(f\"{player.name} tries to run away!\")\n",
    "            return"
   ]
  },
  {
   "cell_type": "markdown",
   "metadata": {},
   "source": [
    "## Logging\n",
    "- Logging is configured in multiple files to track errors and game events.\n",
    "- Logs are displayed in the terminal for debugging purposes."
   ]
  },
  {
   "cell_type": "code",
   "execution_count": null,
   "metadata": {},
   "outputs": [],
   "source": [
    "# filepath: ~~\\project-1-pypair\\Project_Main_Function\\Combat_System.py\n",
    "def use_item(player):\n",
    "    print(\"Select an item to use:\")\n",
    "    for i, item in enumerate(player.inventory, start=1):\n",
    "        print(f\"{i}. {item['name']}\")\n",
    "    choice = int(input(\"Enter the item number to use: \"))\n",
    "    item = player.inventory[choice - 1]\n",
    "    if 'effect' in item:\n",
    "        apply_item_effect(player, item)\n",
    "        player.inventory.pop(choice - 1)"
   ]
  },
  {
   "cell_type": "markdown",
   "metadata": {},
   "source": [
    "### Storyline"
   ]
  },
  {
   "cell_type": "code",
   "execution_count": null,
   "metadata": {},
   "outputs": [],
   "source": [
    "# filepath: ~~\\project-1-pypair\\Project_Main_Function\\Combat_System.py\n",
    "def progress_story(player, node, storyline):\n",
    "    event = storyline[node]\n",
    "    slow_print(event['text'])\n",
    "    if 'event' in event and event['event'] == 'combat':\n",
    "        demon = spawn_demon('tier_1')\n",
    "        combat(player, demon, node)"
   ]
  },
  {
   "cell_type": "markdown",
   "metadata": {},
   "source": [
    "## How to Run the Game\n",
    "1. Ensure all required files are in the project directory.\n",
    "2. Open a terminal and navigate to the project folder.\n",
    "3. Run the following command:\n",
    "   ```bash\n",
    "   python Project_Main_Function/Game_Start.py\n",
    "   ```\n",
    "4. Follow the on-screen instructions to play the game."
   ]
  },
  {
   "cell_type": "markdown",
   "metadata": {},
   "source": [
    "## JSON Files\n",
    "- **`Demons.json`**: Contains demon data categorized by tiers.\n",
    "- **`Items.json`**: Contains item data categorized by rarity.\n",
    "- **`Storyline.json`**: Defines the game's narrative structure.\n",
    "\n",
    "These files are loaded dynamically during the game to provide flexibility and scalability."
   ]
  },
  {
   "cell_type": "markdown",
   "metadata": {},
   "source": [
    "## Logging\n",
    "- Logging is configured in multiple files to track errors and game events.\n",
    "- Logs are displayed in the terminal for debugging purposes."
   ]
  },
  {
   "cell_type": "code",
   "execution_count": null,
   "metadata": {},
   "outputs": [],
   "source": []
  },
  {
   "cell_type": "markdown",
   "metadata": {},
   "source": [
    "## Contribution\n",
    "- **Huynh Gia Phong Tat**: Core mechanics and storyline.\n",
    "- **Namho Kye**: Item system and combat logic."
   ]
  }
 ],
 "metadata": {
  "language_info": {
   "name": "python"
  }
 },
 "nbformat": 4,
 "nbformat_minor": 2
}
